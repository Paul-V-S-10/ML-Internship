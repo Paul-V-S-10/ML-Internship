{
 "cells": [
  {
   "cell_type": "code",
   "execution_count": 5,
   "id": "c2556db1",
   "metadata": {},
   "outputs": [
    {
     "name": "stdout",
     "output_type": "stream",
     "text": [
      "{'coord': {'lon': 77.59, 'lat': 12.97}, 'weather': [{'id': 804, 'main': 'Clouds', 'description': 'overcast clouds', 'icon': '04d'}], 'base': 'stations', 'main': {'temp': 301.02, 'feels_like': 302.62, 'temp_min': 301.02, 'temp_max': 301.02, 'pressure': 1009, 'humidity': 62, 'sea_level': 1009, 'grnd_level': 912}, 'visibility': 10000, 'wind': {'speed': 8.16, 'deg': 258, 'gust': 10.28}, 'clouds': {'all': 100}, 'dt': 1751012116, 'sys': {'country': 'IN', 'sunrise': 1750983962, 'sunset': 1751030346}, 'timezone': 19800, 'id': 1277333, 'name': 'Bengaluru', 'cod': 200}\n"
     ]
    }
   ],
   "source": [
    "import requests\n",
    "\n",
    "API_KEY = \"7bb4f36b6aed231df82fcb0c342e4b56\"\n",
    "LAT = 12.9716\n",
    "LON = 77.5946\n",
    "# Free-tier compatible weather data (contains solar fields)\n",
    "URL = f\"https://api.openweathermap.org/data/2.5/weather?lat={LAT}&lon={LON}&appid={API_KEY}\"\n",
    "\n",
    "response = requests.get(URL)\n",
    "data = response.json()\n",
    "print(data)\n",
    "\n"
   ]
  },
  {
   "cell_type": "code",
   "execution_count": 8,
   "id": "72be0236",
   "metadata": {},
   "outputs": [
    {
     "name": "stdout",
     "output_type": "stream",
     "text": [
      "                           ghi  dni  dhi\n",
      "2025-01-15 00:00:00+05:30  0.0  0.0  0.0\n",
      "2025-01-15 01:00:00+05:30  0.0  0.0  0.0\n",
      "2025-01-15 02:00:00+05:30  0.0  0.0  0.0\n",
      "2025-01-15 03:00:00+05:30  0.0  0.0  0.0\n",
      "2025-01-15 04:00:00+05:30  0.0  0.0  0.0\n",
      "Estimated daily energy: 1851.65 kWh\n"
     ]
    },
    {
     "name": "stderr",
     "output_type": "stream",
     "text": [
      "C:\\Users\\Paul\\AppData\\Local\\Temp\\ipykernel_10600\\3086170591.py:19: FutureWarning: 'H' is deprecated and will be removed in a future version, please use 'h' instead.\n",
      "  times = pd.date_range(\"2025-01-15\", periods=24, freq=\"H\", tz=site.tz)\n"
     ]
    }
   ],
   "source": [
    "import pandas as pd  # Required for date_range\n",
    "import pvlib\n",
    "from pvlib.location import Location\n",
    "\n",
    "# Bangalore parameters\n",
    "\n",
    "ALTITUDE = 920\n",
    "TIMEZONE = \"Asia/Kolkata\"\n",
    "\n",
    "# Define location\n",
    "site = Location(\n",
    "    latitude=LAT,\n",
    "    longitude=LON,\n",
    "    tz=TIMEZONE,\n",
    "    altitude=ALTITUDE\n",
    ")\n",
    "\n",
    "# Calculate for typical sunny day (Jan 15)\n",
    "times = pd.date_range(\"2025-01-15\", periods=24, freq=\"H\", tz=site.tz)\n",
    "solar_position = site.get_solarposition(times)\n",
    "clearsky = site.get_clearsky(times)\n",
    "\n",
    "# Proceed with energy calculations...\n",
    "\n",
    "\n",
    "# 3. Calculate clear-sky irradiance (replace with real data)\n",
    "clearsky = site.get_clearsky(times)\n",
    "print(clearsky.head())\n",
    "\n",
    "# 4. Calculate panel output\n",
    "panel_power = 400  # Watts\n",
    "system_efficiency = 0.75  # Accounting for losses\n",
    "total_energy = sum(\n",
    "    clearsky[\"ghi\"] * panel_power * system_efficiency / 1000  # Convert to kWh\n",
    ")\n",
    "\n",
    "print(f\"Estimated daily energy: {total_energy:.2f} kWh\")\n"
   ]
  },
  {
   "cell_type": "code",
   "execution_count": 9,
   "id": "0f040a54",
   "metadata": {},
   "outputs": [
    {
     "name": "stdout",
     "output_type": "stream",
     "text": [
      "Panels required: 0\n"
     ]
    }
   ],
   "source": [
    "def calculate_panels(device_power, usage_hours, daily_energy_per_panel):\n",
    "    daily_energy_needed = device_power * usage_hours / 1000  # kWh\n",
    "    return daily_energy_needed / daily_energy_per_panel\n",
    "\n",
    "# Example: 500W device running 8 hours/day\n",
    "panels_needed = calculate_panels(\n",
    "    device_power=500,\n",
    "    usage_hours=8,\n",
    "    daily_energy_per_panel=total_energy  # From Step 2\n",
    ")\n",
    "print(f\"Panels required: {panels_needed:.0f}\")\n"
   ]
  },
  {
   "cell_type": "code",
   "execution_count": null,
   "id": "fdc8406e",
   "metadata": {},
   "outputs": [],
   "source": []
  }
 ],
 "metadata": {
  "kernelspec": {
   "display_name": "solar_env",
   "language": "python",
   "name": "python3"
  },
  "language_info": {
   "codemirror_mode": {
    "name": "ipython",
    "version": 3
   },
   "file_extension": ".py",
   "mimetype": "text/x-python",
   "name": "python",
   "nbconvert_exporter": "python",
   "pygments_lexer": "ipython3",
   "version": "3.11.13"
  }
 },
 "nbformat": 4,
 "nbformat_minor": 5
}
